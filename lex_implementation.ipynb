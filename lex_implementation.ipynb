{
 "cells": [
  {
   "cell_type": "code",
   "execution_count": 16,
   "metadata": {},
   "outputs": [],
   "source": [
    "import pandas as pd\n",
    "import numpy as np\n",
    "import os\n",
    "import math\n",
    "import json\n",
    "import tensorflow as tf\n",
    "import tensorflow_hub as hub\n"
   ]
  },
  {
   "cell_type": "code",
   "execution_count": 17,
   "metadata": {},
   "outputs": [],
   "source": [
    "######### Intents #########\n",
    "\n",
    "intents = {}                                  # Creating a global variable for storing intents\n",
    "utterance_bag = []                            # Creating global variable to store all the utterances\n",
    "\n",
    "\n",
    "def create_intent(intent_name):\n",
    "    if type(intent_name)==list:                # Iterate over all the values in list\n",
    "        for intent_name in intent_name:\n",
    "            add_intent(intent_name)\n",
    "\n",
    "    else:                                      # insert without iterating\n",
    "        add_intent(intent_name)\n",
    "\n",
    "\n",
    "def add_intent(intent_name):                   # Function to add intent if not already existing\n",
    "\n",
    "    if not check_intent_name(intent_name):\n",
    "        intents[intent_name] = []\n",
    "    else:\n",
    "        print(\"Intent {0} already exists\".format(intent_name))\n",
    "\n",
    "def check_intent_name(intent_name):            # Checking if an intent already exists\n",
    "    if intent_name in intents.keys():\n",
    "        return True\n",
    "\n",
    "    else:\n",
    "        return False\n",
    "\n",
    "def clear():                                   # Clearing all the variables\n",
    "    intents.clear()\n",
    "    utterance_bag.clear()\n",
    "\n"
   ]
  },
  {
   "cell_type": "code",
   "execution_count": 18,
   "metadata": {},
   "outputs": [],
   "source": [
    "######## Utterances #########\n",
    "\n",
    "## Pass an elememt or list of utterances to be a added for a given intent ##\n",
    "## If intent does not exists, then intent will be created and then utteracnes will be added ##\n",
    "\n",
    "def create_utterance(intent_name, utterance):\n",
    "\n",
    "    if intent_name in intents.keys():                   # Check if intent already exists, add utterance only if it exists\n",
    "        if type(utterance) == list:\n",
    "            for utterance in utterance:\n",
    "                add_utterance(intent_name, utterance)\n",
    "\n",
    "        else:\n",
    "            add_utterance(intent_name, utterance)\n",
    "\n",
    "    else:\n",
    "        create_intent(intent_name)                     # If utterance doesnt exists, then call create intent and then call itself to add utterance\n",
    "        create_utterance(intent_name, utterance)\n",
    "\n",
    "\n",
    "def add_utterance(intent_name, utterance):\n",
    "    if not check_utterance(utterance):\n",
    "        intents[intent_name].append(utterance)\n",
    "        utterance_bag.append(utterance)\n",
    "    else:\n",
    "        print(\"Utterance {0} already exists\".format(utterance))\n",
    "\n",
    "def check_utterance(utterance):\n",
    "    if utterance in utterance_bag:                    # Checking the utterance in the bag of utterances. If it exists in any intent, it will give an error\n",
    "        return True\n",
    "    else:\n",
    "        return False\n"
   ]
  },
  {
   "cell_type": "code",
   "execution_count": 19,
   "metadata": {},
   "outputs": [],
   "source": [
    "########## Delete intents/utterances ##########\n",
    "\n",
    "## pass intent name to be deleted ##\n",
    "def remove_intent(intent_name):                       # Removes specified intent\n",
    "    if type(intent_name) == list:\n",
    "        for intent_name in intent_name:\n",
    "            try:\n",
    "                intents.pop(intent_name)\n",
    "            except KeyError:\n",
    "                print(\"'{0}' intent doesnt exists\".format(intent_name))      # Throws an exception if intent does not exists\n",
    "\n",
    "    else:\n",
    "        try:\n",
    "            intents.pop(intent_name)\n",
    "        except KeyError:\n",
    "            print(\"'{0}' intent doesnt exists\".format(intent_name))\n",
    "\n",
    "\n",
    "## Pass an utterance or list of utterances to be deleted along with intent ##\n",
    "# Todo - identify intent name without user specifying\n",
    "\n",
    "def remove_utterance(intent_name, utterance):           # removes utterances\n",
    "    if type(utterance) == list:\n",
    "        for utterance in utterance:\n",
    "            try:\n",
    "                intents[intent_name].remove(utterance)\n",
    "            except ValueError:\n",
    "                print(\"'{0}' utterance doesnt exists\".format(utterance)) # throws exception if utterance does not exists\n",
    "\n",
    "    else:\n",
    "        try:\n",
    "            intents[intent_name].remove(utterance)\n",
    "        except ValueError:\n",
    "            print(\"'{0}' utterance doesnt exists\".format(utterance))\n",
    "\n"
   ]
  },
  {
   "cell_type": "code",
   "execution_count": 20,
   "metadata": {},
   "outputs": [],
   "source": [
    "######### Storing/Retrieving data ############\n",
    "def store_data():\n",
    "    with open(\"sample.json\", \"w\") as file:\n",
    "        json.dump(intents, file)\n",
    "\n",
    "def retrieve_data():\n",
    "    with open(\"sample.json\", \"r\") as file:\n",
    "        intents.update(json.load(file))\n",
    "\n",
    "\n"
   ]
  },
  {
   "cell_type": "code",
   "execution_count": 21,
   "metadata": {},
   "outputs": [],
   "source": [
    "######### Get intent from utterance ########\n",
    "def get_intent(utterance):\n",
    "    for k, v in intents.items():\n",
    "        if utterance in v:\n",
    "            return k\n"
   ]
  },
  {
   "cell_type": "code",
   "execution_count": 22,
   "metadata": {},
   "outputs": [],
   "source": [
    "def match_intent(sent):\n",
    "    utterance_list = []\n",
    "    for k,v in intents.items():\n",
    "        utterance_list = utterance_list + v['utterance']\n",
    "    module_url = \"https://tfhub.dev/google/universal-sentence-encoder-large/3\"\n",
    "    embed = hub.Module(module_url)\n",
    "    sentences = [sent]+utterance_list\n",
    "    similarity_input_placeholder = tf.placeholder(tf.string, shape=(None))\n",
    "    similarity_sentences_encodings = embed(similarity_input_placeholder)\n",
    "    with tf.Session() as session:\n",
    "        session.run(tf.global_variables_initializer())\n",
    "        session.run(tf.tables_initializer())\n",
    "        sentences_embeddings = session.run(similarity_sentences_encodings, feed_dict={similarity_input_placeholder: sentences})\n",
    "        input_embed = sentences_embeddings[0]\n",
    "        utterance_embed = sentences_embeddings[1:]\n",
    "        max = -2\n",
    "        for index, s in enumerate(utterance_embed):\n",
    "            sim = np.inner(input_embed,s)\n",
    "            if(sim > max):\n",
    "                max = sim\n",
    "                max_index = index\n",
    "            matched_utterance = utterance_list[max_index+1]\n",
    "        print(get_intent(matched_utterance))#USE THIS UTTERANCE TO GET THE INTENT AS THIS IS THE UTTERANCE WITH MAXIMUM SIMILARITY   \n",
    "\n"
   ]
  },
  {
   "cell_type": "code",
   "execution_count": 23,
   "metadata": {},
   "outputs": [],
   "source": [
    "############## Testing ##############\n",
    "def test():\n",
    "    create_utterance(\"greeting\", [\"hi\", \"hey\", \"yo\"])\n",
    "    create_intent([\"introduction\", \"aboutyourself\"])\n",
    "    create_utterance(\"introduction\", \"i am karthik\")\n",
    "    create_utterance(\"aboutyourself\", [\"what do you do?\", \"where did you work?\", \"i worked as an engineer\", \"what do you do for living\"])\n",
    "    create_utterance(\"story\", [\"i am interesetd in hearing your story\",\"tell me your story\", \"what happened\"])\n",
    "    create_utterance(\"family\", [\"you got a family\", \"were you married\", \"do you have kids?\", \"who else lives with you?\"])\n",
    "    create_utterance(\"holiday\", [\"do you go out for holidays?\", \"which was your last vacation\", \"do you like to visit different places?\"])\n",
    "\n",
    "    # Send as json file\n",
    "    store_data()\n",
    "\n",
    "    # Printing the values\n",
    "    print(\"intents after testing with add test functions{0}\".format(intents))\n",
    "\n",
    "    # Testing remove functions\n",
    "    remove_intent(\"story\")\n",
    "    remove_utterance(\"family\", \"tell me your story\")\n",
    "    remove_utterance(\"family\", \"Remove an utterance which does not exists\")\n",
    "    remove_utterance(\"greeting\", \"hi\")\n",
    "\n",
    "    print(\"intents after deleting test functions{0}\".format(intents))\n",
    "\n",
    "    retrieve_data()\n",
    "\n",
    "    print(\"intents after retriving data from json file{0}\".format(intents))\n",
    "\n"
   ]
  },
  {
   "cell_type": "code",
   "execution_count": 25,
   "metadata": {},
   "outputs": [],
   "source": [
    "clear()"
   ]
  },
  {
   "cell_type": "code",
   "execution_count": 26,
   "metadata": {},
   "outputs": [
    {
     "data": {
      "text/plain": [
       "{}"
      ]
     },
     "execution_count": 26,
     "metadata": {},
     "output_type": "execute_result"
    }
   ],
   "source": [
    "intents\n"
   ]
  },
  {
   "cell_type": "code",
   "execution_count": 29,
   "metadata": {},
   "outputs": [
    {
     "name": "stdout",
     "output_type": "stream",
     "text": [
      "Utterance hi already exists\n",
      "Utterance hey already exists\n",
      "Utterance yo already exists\n",
      "Intent introduction already exists\n",
      "Intent aboutyourself already exists\n",
      "Utterance i am karthik already exists\n",
      "Utterance what do you do? already exists\n",
      "Utterance where did you work? already exists\n",
      "Utterance i worked as an engineer already exists\n",
      "Utterance what do you do for living already exists\n",
      "Utterance i am interesetd in hearing your story already exists\n",
      "Utterance tell me your story already exists\n",
      "Utterance what happened already exists\n",
      "Utterance you got a family already exists\n",
      "Utterance were you married already exists\n",
      "Utterance do you have kids? already exists\n",
      "Utterance who else lives with you? already exists\n",
      "Utterance do you go out for holidays? already exists\n",
      "Utterance which was your last vacation already exists\n",
      "Utterance do you like to visit different places? already exists\n",
      "intents after testing with add test functions{'greeting': ['hi', 'hey', 'yo'], 'introduction': ['i am karthik'], 'aboutyourself': ['what do you do?', 'where did you work?', 'i worked as an engineer', 'what do you do for living'], 'family': ['you got a family', 'were you married', 'do you have kids?', 'who else lives with you?'], 'holiday': ['do you go out for holidays?', 'which was your last vacation', 'do you like to visit different places?'], 'story': ['i am interesetd in hearing your story', 'tell me your story', 'what happened']}\n",
      "'tell me your story' utterance doesnt exists\n",
      "'Remove an utterance which does not exists' utterance doesnt exists\n",
      "intents after deleting test functions{'greeting': ['hey', 'yo'], 'introduction': ['i am karthik'], 'aboutyourself': ['what do you do?', 'where did you work?', 'i worked as an engineer', 'what do you do for living'], 'family': ['you got a family', 'were you married', 'do you have kids?', 'who else lives with you?'], 'holiday': ['do you go out for holidays?', 'which was your last vacation', 'do you like to visit different places?']}\n",
      "intents after retriving data from json file{'greeting': ['hi', 'hey', 'yo'], 'introduction': ['i am karthik'], 'aboutyourself': ['what do you do?', 'where did you work?', 'i worked as an engineer', 'what do you do for living'], 'family': ['you got a family', 'were you married', 'do you have kids?', 'who else lives with you?'], 'holiday': ['do you go out for holidays?', 'which was your last vacation', 'do you like to visit different places?'], 'story': ['i am interesetd in hearing your story', 'tell me your story', 'what happened']}\n"
     ]
    }
   ],
   "source": [
    "test()"
   ]
  },
  {
   "cell_type": "code",
   "execution_count": 30,
   "metadata": {},
   "outputs": [
    {
     "data": {
      "text/plain": [
       "{'greeting': ['hi', 'hey', 'yo'],\n",
       " 'introduction': ['i am karthik'],\n",
       " 'aboutyourself': ['what do you do?',\n",
       "  'where did you work?',\n",
       "  'i worked as an engineer',\n",
       "  'what do you do for living'],\n",
       " 'family': ['you got a family',\n",
       "  'were you married',\n",
       "  'do you have kids?',\n",
       "  'who else lives with you?'],\n",
       " 'holiday': ['do you go out for holidays?',\n",
       "  'which was your last vacation',\n",
       "  'do you like to visit different places?'],\n",
       " 'story': ['i am interesetd in hearing your story',\n",
       "  'tell me your story',\n",
       "  'what happened']}"
      ]
     },
     "execution_count": 30,
     "metadata": {},
     "output_type": "execute_result"
    }
   ],
   "source": [
    "intents"
   ]
  },
  {
   "cell_type": "code",
   "execution_count": 31,
   "metadata": {},
   "outputs": [
    {
     "ename": "TypeError",
     "evalue": "list indices must be integers or slices, not str",
     "output_type": "error",
     "traceback": [
      "\u001b[0;31m---------------------------------------------------------------------------\u001b[0m",
      "\u001b[0;31mTypeError\u001b[0m                                 Traceback (most recent call last)",
      "\u001b[0;32m<ipython-input-31-0304675679d9>\u001b[0m in \u001b[0;36m<module>\u001b[0;34m\u001b[0m\n\u001b[0;32m----> 1\u001b[0;31m \u001b[0mmatch_intent\u001b[0m\u001b[0;34m(\u001b[0m\u001b[0;34m\"do you have vacations?\"\u001b[0m\u001b[0;34m)\u001b[0m\u001b[0;34m\u001b[0m\u001b[0;34m\u001b[0m\u001b[0m\n\u001b[0m",
      "\u001b[0;32m<ipython-input-22-fe450ba6d917>\u001b[0m in \u001b[0;36mmatch_intent\u001b[0;34m(sent)\u001b[0m\n\u001b[1;32m      2\u001b[0m     \u001b[0mutterance_list\u001b[0m \u001b[0;34m=\u001b[0m \u001b[0;34m[\u001b[0m\u001b[0;34m]\u001b[0m\u001b[0;34m\u001b[0m\u001b[0;34m\u001b[0m\u001b[0m\n\u001b[1;32m      3\u001b[0m     \u001b[0;32mfor\u001b[0m \u001b[0mk\u001b[0m\u001b[0;34m,\u001b[0m\u001b[0mv\u001b[0m \u001b[0;32min\u001b[0m \u001b[0mintents\u001b[0m\u001b[0;34m.\u001b[0m\u001b[0mitems\u001b[0m\u001b[0;34m(\u001b[0m\u001b[0;34m)\u001b[0m\u001b[0;34m:\u001b[0m\u001b[0;34m\u001b[0m\u001b[0;34m\u001b[0m\u001b[0m\n\u001b[0;32m----> 4\u001b[0;31m         \u001b[0mutterance_list\u001b[0m \u001b[0;34m=\u001b[0m \u001b[0mutterance_list\u001b[0m \u001b[0;34m+\u001b[0m \u001b[0mv\u001b[0m\u001b[0;34m[\u001b[0m\u001b[0;34m'utterance'\u001b[0m\u001b[0;34m]\u001b[0m\u001b[0;34m\u001b[0m\u001b[0;34m\u001b[0m\u001b[0m\n\u001b[0m\u001b[1;32m      5\u001b[0m     \u001b[0mmodule_url\u001b[0m \u001b[0;34m=\u001b[0m \u001b[0;34m\"https://tfhub.dev/google/universal-sentence-encoder-large/3\"\u001b[0m\u001b[0;34m\u001b[0m\u001b[0;34m\u001b[0m\u001b[0m\n\u001b[1;32m      6\u001b[0m     \u001b[0membed\u001b[0m \u001b[0;34m=\u001b[0m \u001b[0mhub\u001b[0m\u001b[0;34m.\u001b[0m\u001b[0mModule\u001b[0m\u001b[0;34m(\u001b[0m\u001b[0mmodule_url\u001b[0m\u001b[0;34m)\u001b[0m\u001b[0;34m\u001b[0m\u001b[0;34m\u001b[0m\u001b[0m\n",
      "\u001b[0;31mTypeError\u001b[0m: list indices must be integers or slices, not str"
     ]
    }
   ],
   "source": [
    "match_intent(\"do you have vacations?\")"
   ]
  },
  {
   "cell_type": "code",
   "execution_count": null,
   "metadata": {},
   "outputs": [],
   "source": []
  }
 ],
 "metadata": {
  "kernelspec": {
   "display_name": "Python 3",
   "language": "python",
   "name": "python3"
  },
  "language_info": {
   "codemirror_mode": {
    "name": "ipython",
    "version": 3
   },
   "file_extension": ".py",
   "mimetype": "text/x-python",
   "name": "python",
   "nbconvert_exporter": "python",
   "pygments_lexer": "ipython3",
   "version": "3.7.3"
  }
 },
 "nbformat": 4,
 "nbformat_minor": 2
}
